{
 "cells": [
  {
   "cell_type": "markdown",
   "metadata": {},
   "source": [
    "# List Comprehensions\n",
    "\n",
    "Complete the following set of exercises to solidify your knowledge of list comprehensions."
   ]
  },
  {
   "cell_type": "code",
   "execution_count": 1,
   "metadata": {},
   "outputs": [],
   "source": [
    "import os"
   ]
  },
  {
   "cell_type": "markdown",
   "metadata": {},
   "source": [
    "#### 1. Use a list comprehension to create and print a list of consecutive integers starting with 1 and ending with 50."
   ]
  },
  {
   "cell_type": "code",
   "execution_count": 4,
   "metadata": {},
   "outputs": [
    {
     "name": "stdout",
     "output_type": "stream",
     "text": [
      "[1, 2, 3, 4, 5, 6, 7, 8, 9, 10, 11, 12, 13, 14, 15, 16, 17, 18, 19, 20, 21, 22, 23, 24, 25, 26, 27, 28, 29, 30, 31, 32, 33, 34, 35, 36, 37, 38, 39, 40, 41, 42, 43, 44, 45, 46, 47, 48, 49, 50]\n"
     ]
    }
   ],
   "source": [
    "#your code here\n",
    "print([x for x in range(1, 51)])"
   ]
  },
  {
   "cell_type": "markdown",
   "metadata": {},
   "source": [
    "#### 2. Use a list comprehension to create and print a list of even numbers starting with 2 and ending with 200."
   ]
  },
  {
   "cell_type": "code",
   "execution_count": 5,
   "metadata": {},
   "outputs": [
    {
     "name": "stdout",
     "output_type": "stream",
     "text": [
      "[2, 3, 4, 5, 6, 7, 8, 9, 10, 11, 12, 13, 14, 15, 16, 17, 18, 19, 20, 21, 22, 23, 24, 25, 26, 27, 28, 29, 30, 31, 32, 33, 34, 35, 36, 37, 38, 39, 40, 41, 42, 43, 44, 45, 46, 47, 48, 49, 50, 51, 52, 53, 54, 55, 56, 57, 58, 59, 60, 61, 62, 63, 64, 65, 66, 67, 68, 69, 70, 71, 72, 73, 74, 75, 76, 77, 78, 79, 80, 81, 82, 83, 84, 85, 86, 87, 88, 89, 90, 91, 92, 93, 94, 95, 96, 97, 98, 99, 100, 101, 102, 103, 104, 105, 106, 107, 108, 109, 110, 111, 112, 113, 114, 115, 116, 117, 118, 119, 120, 121, 122, 123, 124, 125, 126, 127, 128, 129, 130, 131, 132, 133, 134, 135, 136, 137, 138, 139, 140, 141, 142, 143, 144, 145, 146, 147, 148, 149, 150, 151, 152, 153, 154, 155, 156, 157, 158, 159, 160, 161, 162, 163, 164, 165, 166, 167, 168, 169, 170, 171, 172, 173, 174, 175, 176, 177, 178, 179, 180, 181, 182, 183, 184, 185, 186, 187, 188, 189, 190, 191, 192, 193, 194, 195, 196, 197, 198, 199, 200]\n"
     ]
    }
   ],
   "source": [
    "#your code here\n",
    "print([x for x in range(2, 201)])"
   ]
  },
  {
   "cell_type": "markdown",
   "metadata": {},
   "source": [
    "#### 3. Use a list comprehension to create and print a list containing all elements of the 10 x 4 array below."
   ]
  },
  {
   "cell_type": "code",
   "execution_count": 17,
   "metadata": {},
   "outputs": [],
   "source": [
    "a = [[0.84062117, 0.48006452, 0.7876326 , 0.77109654],\n",
    "       [0.44409793, 0.09014516, 0.81835917, 0.87645456],\n",
    "       [0.7066597 , 0.09610873, 0.41247947, 0.57433389],\n",
    "       [0.29960807, 0.42315023, 0.34452557, 0.4751035 ],\n",
    "       [0.17003563, 0.46843998, 0.92796258, 0.69814654],\n",
    "       [0.41290051, 0.19561071, 0.16284783, 0.97016248],\n",
    "       [0.71725408, 0.87702738, 0.31244595, 0.76615487],\n",
    "       [0.20754036, 0.57871812, 0.07214068, 0.40356048],\n",
    "       [0.12149553, 0.53222417, 0.9976855 , 0.12536346],\n",
    "       [0.80930099, 0.50962849, 0.94555126, 0.33364763]];"
   ]
  },
  {
   "cell_type": "code",
   "execution_count": 25,
   "metadata": {},
   "outputs": [
    {
     "data": {
      "text/plain": [
       "[0.84062117,\n",
       " 0.48006452,\n",
       " 0.7876326,\n",
       " 0.77109654,\n",
       " 0.44409793,\n",
       " 0.09014516,\n",
       " 0.81835917,\n",
       " 0.87645456,\n",
       " 0.7066597,\n",
       " 0.09610873,\n",
       " 0.41247947,\n",
       " 0.57433389,\n",
       " 0.29960807,\n",
       " 0.42315023,\n",
       " 0.34452557,\n",
       " 0.4751035,\n",
       " 0.17003563,\n",
       " 0.46843998,\n",
       " 0.92796258,\n",
       " 0.69814654,\n",
       " 0.41290051,\n",
       " 0.19561071,\n",
       " 0.16284783,\n",
       " 0.97016248,\n",
       " 0.71725408,\n",
       " 0.87702738,\n",
       " 0.31244595,\n",
       " 0.76615487,\n",
       " 0.20754036,\n",
       " 0.57871812,\n",
       " 0.07214068,\n",
       " 0.40356048,\n",
       " 0.12149553,\n",
       " 0.53222417,\n",
       " 0.9976855,\n",
       " 0.12536346,\n",
       " 0.80930099,\n",
       " 0.50962849,\n",
       " 0.94555126,\n",
       " 0.33364763]"
      ]
     },
     "execution_count": 25,
     "metadata": {},
     "output_type": "execute_result"
    }
   ],
   "source": [
    "#your code here\n",
    "print([y for x in a for y in x])"
   ]
  },
  {
   "cell_type": "markdown",
   "metadata": {},
   "source": [
    "#### 4. Add a condition to the list comprehension above so that only values greater than or equal to 0.5 are printed."
   ]
  },
  {
   "cell_type": "code",
   "execution_count": 27,
   "metadata": {},
   "outputs": [
    {
     "name": "stdout",
     "output_type": "stream",
     "text": [
      "[0.84062117, 0.7876326, 0.77109654, 0.81835917, 0.87645456, 0.7066597, 0.57433389, 0.92796258, 0.69814654, 0.97016248, 0.71725408, 0.87702738, 0.76615487, 0.57871812, 0.53222417, 0.9976855, 0.80930099, 0.50962849, 0.94555126]\n"
     ]
    }
   ],
   "source": [
    "#your code here\n",
    "print([y for x in a for y in x if y >= 0.5])"
   ]
  },
  {
   "cell_type": "markdown",
   "metadata": {},
   "source": [
    "#### 5. Use a list comprehension to create and print a list containing all elements of the 5 x 2 x 3 array below."
   ]
  },
  {
   "cell_type": "code",
   "execution_count": 30,
   "metadata": {},
   "outputs": [],
   "source": [
    "b = [[[0.55867166, 0.06210792, 0.08147297],\n",
    "        [0.82579068, 0.91512478, 0.06833034]],\n",
    "\n",
    "       [[0.05440634, 0.65857693, 0.30296619],\n",
    "        [0.06769833, 0.96031863, 0.51293743]],\n",
    "\n",
    "       [[0.09143215, 0.71893382, 0.45850679],\n",
    "        [0.58256464, 0.59005654, 0.56266457]],\n",
    "\n",
    "       [[0.71600294, 0.87392666, 0.11434044],\n",
    "        [0.8694668 , 0.65669313, 0.10708681]],\n",
    "\n",
    "       [[0.07529684, 0.46470767, 0.47984544],\n",
    "        [0.65368638, 0.14901286, 0.23760688]]];"
   ]
  },
  {
   "cell_type": "code",
   "execution_count": 34,
   "metadata": {},
   "outputs": [
    {
     "name": "stdout",
     "output_type": "stream",
     "text": [
      "[0.55867166, 0.06210792, 0.08147297, 0.82579068, 0.91512478, 0.06833034, 0.05440634, 0.65857693, 0.30296619, 0.06769833, 0.96031863, 0.51293743, 0.09143215, 0.71893382, 0.45850679, 0.58256464, 0.59005654, 0.56266457, 0.71600294, 0.87392666, 0.11434044, 0.8694668, 0.65669313, 0.10708681, 0.07529684, 0.46470767, 0.47984544, 0.65368638, 0.14901286, 0.23760688]\n"
     ]
    }
   ],
   "source": [
    "#your code here\n",
    "print([z for x in b for y in x for z in y])"
   ]
  },
  {
   "cell_type": "markdown",
   "metadata": {},
   "source": [
    "#### 6. Add a condition to the list comprehension above so that the last value in each subarray is printed, but only if it is less than or equal to 0.5."
   ]
  },
  {
   "cell_type": "code",
   "execution_count": 65,
   "metadata": {},
   "outputs": [
    {
     "name": "stdout",
     "output_type": "stream",
     "text": [
      "[0.08147297, 0.06833034, 0.30296619, 0.45850679, 0.11434044, 0.10708681, 0.47984544, 0.23760688]\n"
     ]
    }
   ],
   "source": [
    "#your code here\n",
    "print([y[-1] for x in b for y in x if y[-1] <= 0.5])"
   ]
  },
  {
   "cell_type": "markdown",
   "metadata": {},
   "source": [
    "### Bonus"
   ]
  },
  {
   "cell_type": "markdown",
   "metadata": {},
   "source": [
    "Try to solve these katas using list comprehensions."
   ]
  },
  {
   "cell_type": "markdown",
   "metadata": {},
   "source": [
    "**Easy**\n",
    "- [Insert values](https://www.codewars.com/kata/invert-values)\n",
    "- [Sum Square(n)](https://www.codewars.com/kata/square-n-sum)\n",
    "- [Digitize](https://www.codewars.com/kata/digitize)\n",
    "- [List filtering](https://www.codewars.com/kata/list-filtering)\n",
    "- [Arithmetic list](https://www.codewars.com/kata/541da001259d9ca85d000688)\n",
    "\n",
    "**Medium**\n",
    "- [Multiples of 3 or 5](https://www.codewars.com/kata/514b92a657cdc65150000006)\n",
    "- [Count of positives / sum of negatives](https://www.codewars.com/kata/count-of-positives-slash-sum-of-negatives)\n",
    "- [Categorize new member](https://www.codewars.com/kata/5502c9e7b3216ec63c0001aa)\n",
    "\n",
    "**Advanced**\n",
    "- [Queue time counter](https://www.codewars.com/kata/queue-time-counter)"
   ]
  },
  {
   "cell_type": "markdown",
   "metadata": {},
   "source": [
    "#### Kata - Insert values\n",
    "Given a set of numbers, return the additive inverse of each. Each positive becomes negatives, and the negatives become positives.\n",
    "```\n",
    "[1, 2, 3, 4, 5] --> [-1, -2, -3, -4, -5]\n",
    "[1, -2, 3, -4, 5] --> [-1, 2, -3, 4, -5]\n",
    "[] --> []\n",
    "``` \n",
    "You can assume that all values are integers. Do not mutate the input array."
   ]
  },
  {
   "cell_type": "code",
   "execution_count": 57,
   "metadata": {},
   "outputs": [
    {
     "name": "stdout",
     "output_type": "stream",
     "text": [
      "Additive inverse for [1, 2, 3, 4, 5]:  [-1, -2, -3, -4, -5]\n",
      "Additive inverse for [1, -2, 3, -4, 5]:  [-1, 2, -3, 4, -5]\n"
     ]
    }
   ],
   "source": [
    "def additive_inverse(num_list):\n",
    "    return [num*-1 for num in num_list]\n",
    "\n",
    "print(\"Additive inverse for [1, 2, 3, 4, 5] is: \", additive_inverse([1, 2, 3, 4, 5]))\n",
    "print(\"Additive inverse for [1, -2, 3, -4, 5] is: \", additive_inverse( [1, -2, 3, -4, 5]))"
   ]
  },
  {
   "cell_type": "markdown",
   "metadata": {},
   "source": [
    "#### Kata - Sum Square(n)\n",
    "Complete the square sum function so that it squares each number passed into it and then sums the results together.\n",
    "\n",
    "For example, for `[1, 2, 2]` it should return 9 because \n",
    "\n",
    "``` 1**2 + 2**2 + 2**2 = 9 ```"
   ]
  },
  {
   "cell_type": "code",
   "execution_count": 69,
   "metadata": {},
   "outputs": [
    {
     "name": "stdout",
     "output_type": "stream",
     "text": [
      "Sum Squares for [1, 2, 2] is:  9\n"
     ]
    }
   ],
   "source": [
    "def sum_square(num_list):\n",
    "    return sum([num**2 for num in num_list])\n",
    "\n",
    "print(\"Sum Squares for [1, 2, 2] is: \", sum_square([1, 2, 2]))"
   ]
  },
  {
   "cell_type": "markdown",
   "metadata": {},
   "source": [
    "#### Kata - Digitize\n",
    "Given a non-negative integer, return an array / a list of the individual digits in order.\n",
    "\n",
    "Examples:\n",
    "```\n",
    "    123 => [1,2,3]\n",
    "    1 => [1]\n",
    "    8675309 => [8,6,7,5,3,0,9]\n",
    "``` "
   ]
  },
  {
   "cell_type": "code",
   "execution_count": 75,
   "metadata": {},
   "outputs": [
    {
     "name": "stdout",
     "output_type": "stream",
     "text": [
      "Digitize '123':  ['1', '2', '3']\n",
      "Digitize '1':  ['1']\n",
      "Digitize '8675309':  ['8', '6', '7', '5', '3', '0', '9']\n"
     ]
    }
   ],
   "source": [
    "def digitize(numbers):\n",
    "    # I do it like this because is asked to be done with comprehesions but it would be better to just do \"list(numbers)\"\n",
    "    return [n for n in numbers]\n",
    "\n",
    "print(\"Digitize '123': \", digitize(\"123\"))\n",
    "print(\"Digitize '1': \", digitize(\"1\"))\n",
    "print(\"Digitize '8675309': \", digitize(\"8675309\"))"
   ]
  },
  {
   "cell_type": "markdown",
   "metadata": {},
   "source": [
    "#### Kata - List Filtering\n",
    "In this kata you will create a function that takes a list of non-negative integers and strings and returns a new list with the strings filtered out.\n",
    "\n",
    "Example\n",
    "```\n",
    "filter_list([1,2,'a','b']) == [1,2]\n",
    "filter_list([1,'a','b',0,15]) == [1,0,15]\n",
    "filter_list([1,2,'aasf','1','123',123]) == [1,2,123]\n",
    "```"
   ]
  },
  {
   "cell_type": "code",
   "execution_count": 83,
   "metadata": {},
   "outputs": [
    {
     "name": "stdout",
     "output_type": "stream",
     "text": [
      "filter_list([1,2,'a','b']) ==  [1, 2]\n",
      "filter_list([1,'a','b',0,15]) ==  [1, 0, 15]\n",
      "filter_list([1,2,'aasf','1','123',123]) ==  [1, 2, 123]\n"
     ]
    }
   ],
   "source": [
    "def filter_list(list_number):\n",
    "    return [number for number in list_number if isinstance(number, int) and number >=0]\n",
    "\n",
    "print(\"filter_list([1,2,'a','b']) == \", filter_list([1,2,'a','b']))\n",
    "print(\"filter_list([1,'a','b',0,15]) == \", filter_list([1,'a','b',0,15]))\n",
    "print(\"filter_list([1,2,'aasf','1','123',123]) == \", filter_list([1,2,'aasf','1','123',123]))"
   ]
  },
  {
   "cell_type": "markdown",
   "metadata": {},
   "source": [
    "#### Kata - Arithmetic List!\n",
    "\n",
    "In this kata, you will write an arithmetic list which is basically a list that contains consecutive terms in the sequence.\n",
    "\n",
    "You will be given three parameters :\n",
    "- first the first term in the sequence\n",
    "- c the constant that you are going to ADD ( since it is an arithmetic sequence...)\n",
    "- l the number of terms that should be returned"
   ]
  },
  {
   "cell_type": "code",
   "execution_count": 98,
   "metadata": {},
   "outputs": [
    {
     "name": "stdout",
     "output_type": "stream",
     "text": [
      "Arithmetic list starting on 2 (first), in a sequence of 20 (c) and with a len of 3 numbers (l) =>  [2, 22, 42]\n",
      "Arithmetic list starting on 5 (first), in a sequence of 3 (c) and  with a len of 7 numbers (l) =>  [5, 8, 11, 14, 17]\n",
      "Arithmetic list starting on 3 (first), in a sequence of 7 (c) and  with a len of 10 numbers (l) =>  [3, 10, 17, 24, 31, 38, 45, 52, 59, 66]\n"
     ]
    }
   ],
   "source": [
    "def arithmetic_list(first, c, l):\n",
    "    return [n for n in range(first, first+(l*c), c)]\n",
    "\n",
    "print(\"Arithmetic list starting on 2 (first), in a sequence of 20 (c) and with a len of 3 numbers (l) => \", arithmetic_list(2, 20, 3))\n",
    "print(\"Arithmetic list starting on 5 (first), in a sequence of 3 (c) and  with a len of 7 numbers (l) => \", arithmetic_list(5, 3, 5))\n",
    "print(\"Arithmetic list starting on 3 (first), in a sequence of 7 (c) and  with a len of 10 numbers (l) => \", arithmetic_list(3, 7, 10))"
   ]
  },
  {
   "cell_type": "markdown",
   "metadata": {},
   "source": [
    "#### Kata - Multiples of 3 or 5\n",
    "If we list all the natural numbers below 10 that are multiples of 3 or 5, we get 3, 5, 6 and 9. The sum of these multiples is 23.\n",
    "\n",
    "Finish the solution so that it returns the sum of all the multiples of 3 or 5 below the number passed in.\n",
    "\n",
    "Additionally, if the number is negative, return 0.\n",
    "\n",
    "Note: If the number is a multiple of both 3 and 5, only count it once."
   ]
  },
  {
   "cell_type": "code",
   "execution_count": 21,
   "metadata": {},
   "outputs": [
    {
     "name": "stdout",
     "output_type": "stream",
     "text": [
      "Sum of the multiples of 3 or 5 bellow 10: 23\n",
      "Sum of the multiples of 3 or 5 bellow -1: 0\n",
      "Sum of the multiples of 3 or 5 bellow 15: 45\n",
      "Sum of the multiples of 3 or 5 bellow 50: 543\n"
     ]
    }
   ],
   "source": [
    "def multiples_3_5(number):\n",
    "    if number < 0:\n",
    "        return 0\n",
    "    else:\n",
    "        return sum([num for num in range(1, number) if (num%3==0 or num%5==0)])\n",
    "\n",
    "print(\"Sum of the multiples of 3 or 5 bellow 10:\", multiples_3_5(10))\n",
    "print(\"Sum of the multiples of 3 or 5 bellow -1:\", multiples_3_5(-1)) # Since is requested to return 0 for negative numbers\n",
    "print(\"Sum of the multiples of 3 or 5 bellow 15:\", multiples_3_5(15))\n",
    "print(\"Sum of the multiples of 3 or 5 bellow 50:\", multiples_3_5(50))"
   ]
  },
  {
   "cell_type": "markdown",
   "metadata": {},
   "source": [
    "#### Kata - Count of positives / sum of negatives\n",
    "Given an array of integers.\n",
    "\n",
    "Return an array, where the first element is the count of positives numbers and the second element is sum of negative numbers. 0 is neither positive nor negative.\n",
    "\n",
    "If the input is an empty array or is null, return an empty array.\n",
    "\n",
    "Example\n",
    "For input `[1, 2, 3, 4, 5, 6, 7, 8, 9, 10, -11, -12, -13, -14, -15]`, you should return `[10, -65]`."
   ]
  },
  {
   "cell_type": "code",
   "execution_count": 37,
   "metadata": {},
   "outputs": [
    {
     "name": "stdout",
     "output_type": "stream",
     "text": [
      "Count of positives / Sum of negatives for [1, 2, 3, 4, 5, 6, 7, 8, 9, 10, -11, -12, -13, -14, -15] is:  [10, -65]\n",
      "Count of positives / Sum of negatives for [5, -3, -7 , 10, -9 , 50, -10, 35, -100] is:  [4, -129]\n"
     ]
    }
   ],
   "source": [
    "def count_positive_sum_negative(numbers):\n",
    "    return [len([num for num in numbers if num > 0]), sum([num for num in numbers if num < 0])]\n",
    "    \n",
    "print(\"Count of positives / Sum of negatives for [1, 2, 3, 4, 5, 6, 7, 8, 9, 10, -11, -12, -13, -14, -15] is: \", count_positive_sum_negative([1, 2, 3, 4, 5, 6, 7, 8, 9, 10, -11, -12, -13, -14, -15]))\n",
    "print(\"Count of positives / Sum of negatives for [5, -3, -7 , 10, -9 , 50, -10, 35, -100] is: \", count_positive_sum_negative([5, -3, -7 , 10, -9 , 50, -10, 35, -100]))"
   ]
  },
  {
   "cell_type": "markdown",
   "metadata": {},
   "source": [
    "#### Kata - Categorize New Member\n",
    "The Western Suburbs Croquet Club has two categories of membership, Senior and Open. They would like your help with an application form that will tell prospective members which category they will be placed.\n",
    "\n",
    "To be a senior, a member must be at least 55 years old and have a handicap greater than 7. In this croquet club, handicaps range from -2 to +26; the better the player the lower the handicap.\n",
    "\n",
    "Input\n",
    "Input will consist of a list of pairs. Each pair contains information for a single potential member. Information consists of an integer for the person's age and an integer for the person's handicap.\n",
    "\n",
    "Output\n",
    "Output will consist of a list of string values (in Haskell and C: Open or Senior) stating whether the respective member is to be placed in the senior or open category.\n",
    "\n",
    "Example\n",
    "``` \n",
    "input =  [[18, 20], [45, 2], [61, 12], [37, 6], [21, 21], [78, 9]]\n",
    "output = [\"Open\", \"Open\", \"Senior\", \"Open\", \"Open\", \"Senior\"]\n",
    "```"
   ]
  },
  {
   "cell_type": "code",
   "execution_count": 45,
   "metadata": {},
   "outputs": [
    {
     "name": "stdout",
     "output_type": "stream",
     "text": [
      "Member categories for members [[18, 20], [45, 2], [61, 12], [37, 6], [21, 21], [78, 9]]:  ['Open', 'Open', 'Senior', 'Open', 'Open', 'Senior']\n"
     ]
    }
   ],
   "source": [
    "def member_categorizer(members):\n",
    "    return [\"Senior\" if (member[0] >= 55 and member[1]>7) else \"Open\" for member in input]\n",
    "\n",
    "print(\"Member categories for members [[18, 20], [45, 2], [61, 12], [37, 6], [21, 21], [78, 9]]: \", member_categorizer([[18, 20], [45, 2], [61, 12], [37, 6], [21, 21], [78, 9]]))"
   ]
  },
  {
   "cell_type": "markdown",
   "metadata": {},
   "source": [
    "#### Kata - Queue time counter\n",
    "You managed to send your friend to queue for tickets in your stead, but there is a catch: he will get there only if you tell him how much that is going to take. And everybody can only take one ticket at a time, then they go back in the last position of the queue if they need more (or go home if they are fine).\n",
    "\n",
    "Each ticket takes one minutes to emit, the queue is well disciplined, Brit-style, and so it moves smoothly, with no waste of time.\n",
    "\n",
    "You will be given an array/list/vector with all the people queuing and the initial position of your buddy, so for example, knowing that your friend is in the third position (that we will consider equal to the index, 2 (3 in COBOL): he is the guy that wants 3 tickets!) and the initial queue is [2, 5, 3, 4, 6].\n",
    "\n",
    "The first dude gets his ticket and the queue goes now like this [5, 3, 4, 6, 1], then [3, 4, 6, 1, 4] and so on. In the end, our buddy will be queuing for 12 minutes, true story!\n",
    "\n",
    "Build a function to compute it, resting assured that only positive integers are going to be there and you will be always given a valid index; but we also want to go to pretty popular events, so be ready for big queues with people getting plenty of tickets."
   ]
  },
  {
   "cell_type": "code",
   "execution_count": 17,
   "metadata": {},
   "outputs": [
    {
     "name": "stdout",
     "output_type": "stream",
     "text": [
      "It takes 6 seconds for the person in position 0 to complete the queue [2, 5, 3, 4, 6]\n",
      "It takes 18 seconds for the person in position 1 to complete the queue [2, 5, 3, 4, 6]\n",
      "It takes 12 seconds for the person in position 2 to complete the queue [2, 5, 3, 4, 6]\n",
      "It takes 16 seconds for the person in position 3 to complete the queue [2, 5, 3, 4, 6]\n",
      "It takes 20 seconds for the person in position 4 to complete the queue [2, 5, 3, 4, 6]\n"
     ]
    }
   ],
   "source": [
    "def queue_steps(queue, position):\n",
    "    completed = False\n",
    "    seconds = 0\n",
    "    while completed == False:\n",
    "        seconds += 1\n",
    "        \n",
    "        first = queue[0] - 1\n",
    "        queue = queue[1:]\n",
    "        if first > 0:\n",
    "            queue.append(first)\n",
    "            \n",
    "        if first == 0 and position==0:\n",
    "            completed = True\n",
    "        else:\n",
    "            position = position - 1 if position > 0 else len(queue) - 1\n",
    "    return seconds\n",
    "\n",
    "print(f\"It takes {queue_steps([2, 5, 3, 4, 6], 0)} seconds for the person in position 0 to complete the queue [2, 5, 3, 4, 6]\")\n",
    "print(f\"It takes {queue_steps([2, 5, 3, 4, 6], 1)} seconds for the person in position 1 to complete the queue [2, 5, 3, 4, 6]\")\n",
    "print(f\"It takes {queue_steps([2, 5, 3, 4, 6], 2)} seconds for the person in position 2 to complete the queue [2, 5, 3, 4, 6]\")\n",
    "print(f\"It takes {queue_steps([2, 5, 3, 4, 6], 3)} seconds for the person in position 3 to complete the queue [2, 5, 3, 4, 6]\")\n",
    "print(f\"It takes {queue_steps([2, 5, 3, 4, 6], 4)} seconds for the person in position 4 to complete the queue [2, 5, 3, 4, 6]\")"
   ]
  }
 ],
 "metadata": {
  "kernelspec": {
   "display_name": "Python 3 (ipykernel)",
   "language": "python",
   "name": "python3"
  },
  "language_info": {
   "codemirror_mode": {
    "name": "ipython",
    "version": 3
   },
   "file_extension": ".py",
   "mimetype": "text/x-python",
   "name": "python",
   "nbconvert_exporter": "python",
   "pygments_lexer": "ipython3",
   "version": "3.13.0"
  },
  "vscode": {
   "interpreter": {
    "hash": "aee8b7b246df8f9039afb4144a1f6fd8d2ca17a180786b69acc140d282b71a49"
   }
  }
 },
 "nbformat": 4,
 "nbformat_minor": 4
}
